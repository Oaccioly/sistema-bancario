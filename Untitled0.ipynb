{
  "nbformat": 4,
  "nbformat_minor": 0,
  "metadata": {
    "colab": {
      "name": "Untitled0.ipynb",
      "provenance": [],
      "collapsed_sections": [],
      "authorship_tag": "ABX9TyOxrOhm152hEq/+7on9gFRT",
      "include_colab_link": true
    },
    "kernelspec": {
      "name": "python3",
      "display_name": "Python 3"
    }
  },
  "cells": [
    {
      "cell_type": "markdown",
      "metadata": {
        "id": "view-in-github",
        "colab_type": "text"
      },
      "source": [
        "<a href=\"https://colab.research.google.com/github/ws-silva/sistema-bancario/blob/main/Untitled0.ipynb\" target=\"_parent\"><img src=\"https://colab.research.google.com/assets/colab-badge.svg\" alt=\"Open In Colab\"/></a>"
      ]
    },
    {
      "cell_type": "code",
      "metadata": {
        "id": "6OFpyuManAmD"
      },
      "source": [
        "class Conta:\r\n",
        "    def __init__(self, usuario, cpf, senha, num_conta):\r\n",
        "        self.usuario = usuario\r\n",
        "        self.__cpf = cpf\r\n",
        "        self.__senha = senha\r\n",
        "        self.saldo = 0\r\n",
        "        self.num_conta = num_conta\r\n",
        "\r\n",
        "    def get_cpf(self):\r\n",
        "        return self.__cpf\r\n",
        "        \r\n",
        "    def self_cpf(self, cpf):\r\n",
        "        self.__cpf = cpf\r\n",
        "\r\n",
        "    def get_senha(self):\r\n",
        "        return self.__senha\r\n",
        "\r\n",
        "    def self_senha(self, senha):\r\n",
        "        self.__senha = senha\r\n",
        "\r\n",
        "    def depositar(self, dinheiro, senha):\r\n",
        "        if senha == self.__senha:\r\n",
        "            self.saldo = self.saldo + dinheiro\r\n",
        "            print('Você depositou',dinheiro,'e o saldo é',self.saldo)\r\n",
        "        else:\r\n",
        "            print('Senha errada!')\r\n",
        "\r\n",
        "    def sacar(self, saque, senha):\r\n",
        "        if senha != self.__senha:\r\n",
        "            print('senha errada')\r\n",
        "        if saque > self.saldo:\r\n",
        "            print('salto insuficiente')\r\n",
        "        else:\r\n",
        "            self.saldo = self.saldo - saque\r\n",
        "            print('Você sacou',saque,'o saldo é',self.saldo)"
      ],
      "execution_count": null,
      "outputs": []
    },
    {
      "cell_type": "code",
      "metadata": {
        "id": "fwTubEBwq2DR"
      },
      "source": [
        "class Conta_Admin(Conta):\r\n",
        "    def __init__(self, usuario, cpf, senha, num_conta):\r\n",
        "        super().__init__(usuario, cpf, senha, num_conta)\r\n",
        "\r\n",
        "    def mandar_cartão(self):\r\n",
        "        if self.saldo >= 500:\r\n",
        "            print('Cartão aprovado')\r\n",
        "        else:\r\n",
        "            print('Cartão reprovado')\r\n",
        "\r\n",
        "    def mudar_senha(self, senha):\r\n",
        "        self.self_senha(senha)\r\n",
        "        print(senha)"
      ],
      "execution_count": null,
      "outputs": []
    },
    {
      "cell_type": "code",
      "metadata": {
        "colab": {
          "base_uri": "https://localhost:8080/",
          "height": 197
        },
        "id": "fPqrHksRrDGH",
        "outputId": "d4b61aa5-b4b2-4b34-b2b0-7bf3c0975321"
      },
      "source": [
        "class Sistema:\r\n",
        "    def __init__(self):\r\n",
        "      pass\r\n",
        "\r\n",
        "    def cadastro(self):\r\n",
        "        print('Faça seu cadastro\\n')\r\n",
        "        nome = str(input('\\nDigite seu nome: \\n'))\r\n",
        "        cpf = int(input('Digite seu CPF: \\n'))\r\n",
        "        senha = int(input('Digite uma senha: \\n'))\r\n",
        "\r\n",
        "        arr_num = [1, 2, 3, 4, 5, 6, 7, 8, 9, 10]\r\n",
        "\r\n",
        "        for x in range(5):\r\n",
        "            num_conta = []\r\n",
        "            num_conta.append(arr_num[0, 9])\r\n",
        "        for x in num_conta:\r\n",
        "            print(x, end=\" \")\r\n",
        "\r\n",
        "\r\n",
        "    def menu(self):\r\n",
        "        print(\"bem vindo ao Banco python\\n1- Criar conta\\n2- fazer login\")\r\n",
        "        try:\r\n",
        "            opcao = int(input('\\nQual opcão deseja?'))\r\n",
        "        except ValueError:\r\n",
        "            print('\\nVocê inseriu um valor errado, insira um 1 ou 2')\r\n",
        "        else:\r\n",
        "            if opcao == 2:\r\n",
        "                cadastro()\r\n",
        "Sistema.menu()"
      ],
      "execution_count": 3,
      "outputs": [
        {
          "output_type": "error",
          "ename": "TypeError",
          "evalue": "ignored",
          "traceback": [
            "\u001b[0;31m---------------------------------------------------------------------------\u001b[0m",
            "\u001b[0;31mTypeError\u001b[0m                                 Traceback (most recent call last)",
            "\u001b[0;32m<ipython-input-3-7918832a094c>\u001b[0m in \u001b[0;36m<module>\u001b[0;34m()\u001b[0m\n\u001b[1;32m     27\u001b[0m             \u001b[0;32mif\u001b[0m \u001b[0mopcao\u001b[0m \u001b[0;34m==\u001b[0m \u001b[0;36m2\u001b[0m\u001b[0;34m:\u001b[0m\u001b[0;34m\u001b[0m\u001b[0;34m\u001b[0m\u001b[0m\n\u001b[1;32m     28\u001b[0m                 \u001b[0mcadastro\u001b[0m\u001b[0;34m(\u001b[0m\u001b[0;34m)\u001b[0m\u001b[0;34m\u001b[0m\u001b[0;34m\u001b[0m\u001b[0m\n\u001b[0;32m---> 29\u001b[0;31m \u001b[0mSistema\u001b[0m\u001b[0;34m.\u001b[0m\u001b[0mmenu\u001b[0m\u001b[0;34m(\u001b[0m\u001b[0;34m)\u001b[0m\u001b[0;34m\u001b[0m\u001b[0;34m\u001b[0m\u001b[0m\n\u001b[0m",
            "\u001b[0;31mTypeError\u001b[0m: menu() missing 1 required positional argument: 'self'"
          ]
        }
      ]
    },
    {
      "cell_type": "code",
      "metadata": {
        "colab": {
          "base_uri": "https://localhost:8080/",
          "height": 163
        },
        "id": "SN7g3IQtrLSn",
        "outputId": "4c1e0ad5-f41a-4dc3-f825-e8db88a7cc49"
      },
      "source": [
        ""
      ],
      "execution_count": 1,
      "outputs": [
        {
          "output_type": "error",
          "ename": "NameError",
          "evalue": "ignored",
          "traceback": [
            "\u001b[0;31m---------------------------------------------------------------------------\u001b[0m",
            "\u001b[0;31mNameError\u001b[0m                                 Traceback (most recent call last)",
            "\u001b[0;32m<ipython-input-1-1e9bf4b9b7c2>\u001b[0m in \u001b[0;36m<module>\u001b[0;34m()\u001b[0m\n\u001b[0;32m----> 1\u001b[0;31m \u001b[0mSistema\u001b[0m\u001b[0;34m.\u001b[0m\u001b[0mmenu\u001b[0m\u001b[0;34m(\u001b[0m\u001b[0;34m)\u001b[0m\u001b[0;34m\u001b[0m\u001b[0;34m\u001b[0m\u001b[0m\n\u001b[0m",
            "\u001b[0;31mNameError\u001b[0m: name 'Sistema' is not defined"
          ]
        }
      ]
    }
  ]
}
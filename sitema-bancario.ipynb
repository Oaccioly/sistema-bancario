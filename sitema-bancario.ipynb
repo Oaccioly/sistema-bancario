{
 "cells": [
  {
   "cell_type": "code",
   "execution_count": null,
   "metadata": {},
   "outputs": [],
   "source": [
    "import pandas as pd"
   ]
  },
  {
   "cell_type": "code",
   "execution_count": null,
   "metadata": {},
   "outputs": [],
   "source": [
    "dataframe = pd.DataFrame({\"USUARIO\":       [],\n",
    "                        \"CPF\":             [],\n",
    "                        \"SENHA\":           [],\n",
    "                        \"SALDO\":           [],\n",
    "                        \"NUMERO_DA_CONTA\": []})\n",
    "dataframe.to_csv(\"contas.csv\")"
   ]
  },
  {
   "cell_type": "code",
   "execution_count": null,
   "metadata": {},
   "outputs": [],
   "source": [
    "class Conta:\n",
    "    def __init__(self, usuario, cpf, senha, saldo, num_conta):\n",
    "        self.usuario = usuario\n",
    "        self.__cpf = cpf\n",
    "        self.__senha = senha\n",
    "        self.saldo = saldo\n",
    "        self.num_conta = num_conta\n",
    "\n",
    "        self.dataframe = pd.DataFrame({\"USUARIO\":         self.usuario,\n",
    "                                       \"CPF\":             self.__cpf,\n",
    "                                       \"SENHA\":           self.__senha,\n",
    "                                       \"SALDO\":           self.saldo,\n",
    "                                       \"NUMERO_DA_CONTA\": self.num_conta}, index = [0])\n",
    "        \n",
    "    def get_cpf(self):\n",
    "        return self.__cpf\n",
    "        \n",
    "    def self_cpf(self, cpf):\n",
    "        self.__cpf = cpf\n",
    "\n",
    "    def get_senha(self):\n",
    "        return self.__senha\n",
    "\n",
    "    def self_senha(self, senha):\n",
    "        self.__senha = senha\n",
    "\n",
    "    def depositar(self, dinheiro, senha):\n",
    "        if senha == self.__senha:\n",
    "            self.saldo = self.saldo + dinheiro\n",
    "            print('Você depositou',dinheiro,'e o saldo é',self.saldo)\n",
    "        else:\n",
    "            print('Senha errada!')\n",
    "\n",
    "    def sacar(self, saque, senha):\n",
    "        if senha != self.__senha:\n",
    "            print('senha errada')\n",
    "        elif saque > self.saldo:\n",
    "            print('salto insuficiente')\n",
    "        else:\n",
    "            self.saldo = self.saldo - saque\n",
    "            print('Você sacou',saque,'o saldo é',self.saldo)\n",
    "\n",
    "    def transferir(self, id_conta, Valor):\n",
    "        id_conta.valor = id_conta.valor + Valor\n",
    "        print('Tranferência de R$',Valor,'para a conta',id_conta)"
   ]
  },
  {
   "cell_type": "code",
   "execution_count": null,
   "metadata": {},
   "outputs": [],
   "source": [
    "class Conta_Admin(Conta):\n",
    "    def __init__(self, usuario, cpf, senha, num_conta):\n",
    "        super().__init__(usuario, cpf, senha, num_conta)\n",
    "\n",
    "    def mandar_cartão(self):\n",
    "        if self.saldo >= 500:\n",
    "            print('Cartão aprovado')\n",
    "        else:\n",
    "            print('Cartão reprovado')\n",
    "\n",
    "    def mudar_senha(self, senha):\n",
    "        self.self_senha(senha)\n",
    "        print(senha)\n"
   ]
  },
  {
   "cell_type": "code",
   "execution_count": null,
   "metadata": {},
   "outputs": [],
   "source": [
    "class Sistema:\n",
    "    def __init__(self):\n",
    "        self.__df = pd.read_csv(\"Contas.csv\")\n",
    "        self.__ids = list(self.__df.NUMERO_DA_CONTA)\n",
    "        self.menu()\n",
    "        \n",
    "    \n",
    "\n",
    "    def cadastro(self):\n",
    "        print('Faça seu cadastro\\n')\n",
    "        nome = str(input('\\nDigite seu nome: \\n'))\n",
    "        cpf = int(input('Digite seu CPF: \\n'))\n",
    "        senha = int(input('Digite uma senha: \\n'))\n",
    "        saldo = 0\n",
    "\n",
    "        try:\n",
    "            num_conta = self.__ids[-1]\n",
    "        except IndexError:\n",
    "            num_conta = 0\n",
    "\n",
    "        conta = Conta(nome, cpf, senha, saldo, num_conta)\n",
    "        \n",
    "        \n",
    "        self.__df = self.__df.append(conta.dataframe)\n",
    "        self.__df.to_csv(\"Contas.csv\")\n",
    "        print(self.__df)\n",
    "        \n",
    "\n",
    "\n",
    "    def menu(self):\n",
    "        print(self.__df)\n",
    "        print(\"bem vindo ao Banco python\\n1- Criar conta\\n2- fazer login\")\n",
    "        try:\n",
    "            opcao = int(input('\\nQual opcão deseja?'))\n",
    "        except ValueError:\n",
    "            print('\\nVocê inseriu um valor errado, insira um 1 ou 2')\n",
    "        else:\n",
    "            if opcao == 1:\n",
    "                self.cadastro()\n",
    "        "
   ]
  },
  {
   "cell_type": "code",
   "execution_count": null,
   "metadata": {},
   "outputs": [],
   "source": [
    "sistema()"
   ]
  }
 ],
 "metadata": {
  "kernelspec": {
   "display_name": "Python 3",
   "language": "python",
   "name": "python3"
  },
  "language_info": {
   "codemirror_mode": {
    "name": "ipython",
    "version": 3
   },
   "file_extension": ".py",
   "mimetype": "text/x-python",
   "name": "python",
   "nbconvert_exporter": "python",
   "pygments_lexer": "ipython3",
   "version": "3.7.6"
  }
 },
 "nbformat": 4,
 "nbformat_minor": 4
}

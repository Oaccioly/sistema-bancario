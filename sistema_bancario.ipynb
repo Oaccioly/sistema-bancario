{
  "nbformat": 4,
  "nbformat_minor": 0,
  "metadata": {
    "colab": {
      "name": "sistema_bancario.ipynb",
      "provenance": [],
      "collapsed_sections": [],
      "authorship_tag": "ABX9TyOSV8oy+He/tQX3Jr8iMz98",
      "include_colab_link": true
    },
    "kernelspec": {
      "name": "python3",
      "display_name": "Python 3"
    }
  },
  "cells": [
    {
      "cell_type": "markdown",
      "metadata": {
        "id": "view-in-github",
        "colab_type": "text"
      },
      "source": [
        "<a href=\"https://colab.research.google.com/github/ws-silva/sistema-bancario/blob/main/sistema_bancario.ipynb\" target=\"_parent\"><img src=\"https://colab.research.google.com/assets/colab-badge.svg\" alt=\"Open In Colab\"/></a>"
      ]
    },
    {
      "cell_type": "code",
      "metadata": {
        "id": "6OFpyuManAmD"
      },
      "source": [
        "class Conta:\r\n",
        "    def __init__(self, usuario, cpf, senha, num_conta):\r\n",
        "        self.usuario = usuario\r\n",
        "        self.__cpf = cpf\r\n",
        "        self.__senha = senha\r\n",
        "        self.saldo = 0\r\n",
        "        self.num_conta = num_conta\r\n",
        "        self.dataframe = pd.DataFrame({\"USUARIO\":         self.usuario,\r\n",
        "                                       \"CPF\":             self.__cpf,\r\n",
        "                                       \"SENHA\":           self.__senha,\r\n",
        "                                       \"SALDO\":           self.saldo,\r\n",
        "                                       \"NUMERO_DA_CONTA\": self.num_conta}, index = [0])\r\n",
        "\r\n",
        "        self.dataframe.to_csv(\"Contas.csv\")\r\n",
        "\r\n",
        "    def get_cpf(self):\r\n",
        "        return self.__cpf\r\n",
        "        \r\n",
        "    def self_cpf(self, cpf):\r\n",
        "        self.__cpf = cpf\r\n",
        "\r\n",
        "    def get_senha(self):\r\n",
        "        return self.__senha\r\n",
        "\r\n",
        "    def self_senha(self, senha):\r\n",
        "        self.__senha = senha\r\n",
        "\r\n",
        "    def depositar(self, dinheiro, senha):\r\n",
        "        if senha == self.__senha:\r\n",
        "            self.saldo = self.saldo + dinheiro\r\n",
        "            print('Você depositou',dinheiro,'e o saldo é',self.saldo)\r\n",
        "        else:\r\n",
        "            print('Senha errada!')\r\n",
        "\r\n",
        "    def sacar(self, saque, senha):\r\n",
        "        if senha != self.__senha:\r\n",
        "            print('senha errada')\r\n",
        "        elif saque > self.saldo:\r\n",
        "            print('salto insuficiente')\r\n",
        "        else:\r\n",
        "            self.saldo = self.saldo - saque\r\n",
        "            print('Você sacou',saque,'o saldo é',self.saldo)"
      ],
      "execution_count": null,
      "outputs": []
    },
    {
      "cell_type": "code",
      "metadata": {
        "id": "fwTubEBwq2DR"
      },
      "source": [
        "class Conta_Admin(Conta):\r\n",
        "    def __init__(self, usuario, cpf, senha, num_conta):\r\n",
        "        super().__init__(usuario, cpf, senha, num_conta)\r\n",
        "\r\n",
        "    def mandar_cartão(self):\r\n",
        "        if self.saldo >= 500:\r\n",
        "            print('Cartão aprovado')\r\n",
        "        else:\r\n",
        "            print('Cartão reprovado')\r\n",
        "\r\n",
        "    def mudar_senha(self, senha):\r\n",
        "        self.self_senha(senha)\r\n",
        "        print(senha)"
      ],
      "execution_count": null,
      "outputs": []
    },
    {
      "cell_type": "code",
      "metadata": {
        "id": "fPqrHksRrDGH"
      },
      "source": [
        "class Sistema:\r\n",
        "    def __init__(self):\r\n",
        "      self.menu()\r\n",
        "      self.__df = pd.read_csv(\"Contas.csv\")\r\n",
        "      self.__ids = list(self.__df.num_conta)\r\n",
        "\r\n",
        "    def cadastro(self):\r\n",
        "        print('Faça seu cadastro\\n')\r\n",
        "        nome = str(input('\\nDigite seu nome: \\n'))\r\n",
        "        cpf = int(input('Digite seu CPF: \\n'))\r\n",
        "        senha = int(input('Digite uma senha: \\n'))\r\n",
        "\r\n",
        "        num_conta = self.__ids[-1]\r\n",
        "        conta = Conta(nome, cpf, senha, valor, num_conta)\r\n",
        "\r\n",
        "        dataframe = dataframe.append(conta)\r\n",
        "        dataframe\r\n",
        "\r\n",
        "\r\n",
        "\r\n",
        "    def menu(self):\r\n",
        "        print(\"bem vindo ao Banco python\\n1- Criar conta\\n2- fazer login\")\r\n",
        "        try:\r\n",
        "            opcao = int(input('\\nQual opcão deseja?'))\r\n",
        "        except ValueError:\r\n",
        "            print('\\nVocê inseriu um valor errado, insira um 1 ou 2')\r\n",
        "        else:\r\n",
        "            if opcao == 2:\r\n",
        "                self.cadastro()\r\n"
      ],
      "execution_count": null,
      "outputs": []
    },
    {
      "cell_type": "code",
      "metadata": {
        "id": "SN7g3IQtrLSn"
      },
      "source": [
        ""
      ],
      "execution_count": null,
      "outputs": []
    }
  ]
}